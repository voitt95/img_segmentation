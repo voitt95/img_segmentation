{
 "cells": [
  {
   "cell_type": "code",
   "execution_count": 7,
   "metadata": {},
   "outputs": [],
   "source": [
    "from keras.utils import img_to_array,load_img\n",
    "import tensorflow as tf\n",
    "import pandas as pd\n",
    "import numpy as np\n",
    "import os\n",
    "\n",
    "def get_image(path, img_size):\n",
    "    image = img_to_array(load_img(path, target_size=(img_size, img_size)))\n",
    "    return image/255.\n",
    "\n",
    "def get_mask(path, img_size):\n",
    "    mask = img_to_array(load_img(path, target_size=(img_size, img_size), color_mode='grayscale'))\n",
    "    mask = tf.cast(mask, tf.uint8)\n",
    "    return mask\n"
   ]
  },
  {
   "cell_type": "code",
   "execution_count": 5,
   "metadata": {},
   "outputs": [],
   "source": [
    "df = pd.read_csv(\"my_train.csv\",index_col=\"id\")\n",
    "df['organ'] = pd.Categorical(df['organ'], ['prostate', 'spleen', 'lung', 'kidney', 'largeintestine'])\n",
    "train_df, valid_df, test_df = np.split(df.sample(frac=1, random_state=42), \n",
    "                       [int(.8*len(df)), int(.9*len(df))])"
   ]
  },
  {
   "cell_type": "code",
   "execution_count": 33,
   "metadata": {},
   "outputs": [],
   "source": [
    "img_num = train_df.shape[0]\n",
    "img_size = 512\n",
    "\n",
    "def get_arrays(df,img_size):\n",
    "    img_num = df.shape[0]\n",
    "    image_dir = './images_png'\n",
    "    mask_dir = './masks_png'\n",
    "    input_images = np.zeros(shape=(img_num, img_size, img_size, 3), dtype='float32')\n",
    "    input_masks = np.zeros(shape=(img_num, img_size, img_size, 1), dtype='uint8')\n",
    "    for i in range(img_num):\n",
    "        input_images[i, :, :, :] = get_image(os.path.join(image_dir,str(df.iloc[i].name)+'.png'), img_size)\n",
    "        input_masks[i, :, :, :] = get_mask(os.path.join(mask_dir,str(df.iloc[i].name)+'.png'), img_size)\n",
    "    return input_images,input_masks\n"
   ]
  },
  {
   "cell_type": "code",
   "execution_count": 36,
   "metadata": {},
   "outputs": [],
   "source": [
    "x_train, y_train = get_arrays(train_df,img_size)\n",
    "x_valid, y_valid = get_arrays(valid_df,img_size)\n",
    "x_test, y_test = get_arrays(test_df,img_size)"
   ]
  },
  {
   "cell_type": "code",
   "execution_count": 37,
   "metadata": {},
   "outputs": [
    {
     "name": "stdout",
     "output_type": "stream",
     "text": [
      "Model: \"model\"\n",
      "_________________________________________________________________\n",
      " Layer (type)                Output Shape              Param #   \n",
      "=================================================================\n",
      " input_1 (InputLayer)        [(None, 512, 512, 3)]     0         \n",
      "                                                                 \n",
      " conv2d (Conv2D)             (None, 256, 256, 32)      896       \n",
      "                                                                 \n",
      " conv2d_1 (Conv2D)           (None, 256, 256, 32)      9248      \n",
      "                                                                 \n",
      " conv2d_2 (Conv2D)           (None, 128, 128, 64)      18496     \n",
      "                                                                 \n",
      " conv2d_3 (Conv2D)           (None, 128, 128, 64)      36928     \n",
      "                                                                 \n",
      " conv2d_4 (Conv2D)           (None, 64, 64, 128)       73856     \n",
      "                                                                 \n",
      " conv2d_5 (Conv2D)           (None, 64, 64, 128)       147584    \n",
      "                                                                 \n",
      " conv2d_6 (Conv2D)           (None, 32, 32, 256)       295168    \n",
      "                                                                 \n",
      " conv2d_7 (Conv2D)           (None, 32, 32, 256)       590080    \n",
      "                                                                 \n",
      " conv2d_transpose (Conv2DTra  (None, 32, 32, 256)      590080    \n",
      " nspose)                                                         \n",
      "                                                                 \n",
      " conv2d_transpose_1 (Conv2DT  (None, 64, 64, 256)      590080    \n",
      " ranspose)                                                       \n",
      "                                                                 \n",
      " conv2d_transpose_2 (Conv2DT  (None, 64, 64, 128)      295040    \n",
      " ranspose)                                                       \n",
      "                                                                 \n",
      " conv2d_transpose_3 (Conv2DT  (None, 128, 128, 128)    147584    \n",
      " ranspose)                                                       \n",
      "                                                                 \n",
      " conv2d_transpose_4 (Conv2DT  (None, 128, 128, 64)     73792     \n",
      " ranspose)                                                       \n",
      "                                                                 \n",
      " conv2d_transpose_5 (Conv2DT  (None, 256, 256, 64)     36928     \n",
      " ranspose)                                                       \n",
      "                                                                 \n",
      " conv2d_transpose_6 (Conv2DT  (None, 256, 256, 32)     18464     \n",
      " ranspose)                                                       \n",
      "                                                                 \n",
      " conv2d_transpose_7 (Conv2DT  (None, 512, 512, 32)     9248      \n",
      " ranspose)                                                       \n",
      "                                                                 \n",
      " conv2d_8 (Conv2D)           (None, 512, 512, 1)       289       \n",
      "                                                                 \n",
      "=================================================================\n",
      "Total params: 2,933,761\n",
      "Trainable params: 2,933,761\n",
      "Non-trainable params: 0\n",
      "_________________________________________________________________\n"
     ]
    }
   ],
   "source": [
    "from tensorflow import keras\n",
    "from tensorflow.keras import layers\n",
    "\n",
    "# smaller network\n",
    "tf.keras.backend.clear_session()\n",
    "def get_model(image_size, num_classes):\n",
    "    inputs = keras.Input(shape=(image_size, image_size, 3))\n",
    "    x = layers.Conv2D(32, 3, strides=2, activation='relu', padding='same')(inputs)\n",
    "    x = layers.Conv2D(32, 3, activation='relu', padding='same')(x)\n",
    "    x = layers.Conv2D(64, 3, strides=2, activation='relu', padding='same')(x)\n",
    "    x = layers.Conv2D(64, 3, activation='relu', padding='same')(x)\n",
    "    x = layers.Conv2D(128, 3, strides=2, activation='relu', padding='same')(x)\n",
    "    x = layers.Conv2D(128, 3, activation='relu', padding='same')(x)\n",
    "    x = layers.Conv2D(256, 3, strides=2, activation='relu', padding='same')(x)\n",
    "    x = layers.Conv2D(256, 3, activation='relu', padding='same')(x)\n",
    "    x = layers.Conv2DTranspose(256, 3, activation='relu', padding='same')(x)\n",
    "    x = layers.Conv2DTranspose(256, 3, activation='relu', strides=2, padding='same')(x)\n",
    "    x = layers.Conv2DTranspose(128, 3, activation='relu', padding='same')(x)\n",
    "    x = layers.Conv2DTranspose(128, 3, activation='relu', strides=2, padding='same')(x)\n",
    "    x = layers.Conv2DTranspose(64, 3, activation='relu', padding='same')(x)\n",
    "    x = layers.Conv2DTranspose(64, 3, activation='relu', strides=2, padding='same')(x)\n",
    "    x = layers.Conv2DTranspose(32, 3, activation='relu', padding='same')(x)\n",
    "    x = layers.Conv2DTranspose(32, 3, activation='relu', strides=2, padding='same')(x)\n",
    "    outputs = layers.Conv2D(num_classes, 3, activation='sigmoid', padding='same')(x)\n",
    "    model = keras.Model(inputs, outputs)\n",
    "    return model\n",
    "\n",
    "    \n",
    "model = get_model(img_size, 1)\n",
    "model.compile(loss='binary_crossentropy',\n",
    "              optimizer='rmsprop',\n",
    "              metrics=['accuracy'])\n",
    "model.summary()"
   ]
  },
  {
   "cell_type": "code",
   "execution_count": 39,
   "metadata": {},
   "outputs": [
    {
     "name": "stdout",
     "output_type": "stream",
     "text": [
      "Epoch 1/10\n",
      "70/70 [==============================] - ETA: 0s - loss: 8.7383 - accuracy: 0.8956"
     ]
    },
    {
     "name": "stderr",
     "output_type": "stream",
     "text": [
      "WARNING:absl:Found untraced functions such as _jit_compiled_convolution_op, _jit_compiled_convolution_op, _jit_compiled_convolution_op, _jit_compiled_convolution_op, _jit_compiled_convolution_op while saving (showing 5 of 17). These functions will not be directly callable after loading.\n"
     ]
    },
    {
     "name": "stdout",
     "output_type": "stream",
     "text": [
      "INFO:tensorflow:Assets written to: mymodel\\assets\n"
     ]
    },
    {
     "name": "stderr",
     "output_type": "stream",
     "text": [
      "INFO:tensorflow:Assets written to: mymodel\\assets\n"
     ]
    },
    {
     "name": "stdout",
     "output_type": "stream",
     "text": [
      "70/70 [==============================] - 255s 4s/step - loss: 8.7383 - accuracy: 0.8956 - val_loss: 0.3167 - val_accuracy: 0.8853\n",
      "Epoch 2/10\n",
      "70/70 [==============================] - 228s 3s/step - loss: 0.7739 - accuracy: 0.9039 - val_loss: 0.3259 - val_accuracy: 0.8853\n",
      "Epoch 3/10\n",
      "70/70 [==============================] - ETA: 0s - loss: 0.3094 - accuracy: 0.9039"
     ]
    },
    {
     "name": "stderr",
     "output_type": "stream",
     "text": [
      "WARNING:absl:Found untraced functions such as _jit_compiled_convolution_op, _jit_compiled_convolution_op, _jit_compiled_convolution_op, _jit_compiled_convolution_op, _jit_compiled_convolution_op while saving (showing 5 of 17). These functions will not be directly callable after loading.\n"
     ]
    },
    {
     "name": "stdout",
     "output_type": "stream",
     "text": [
      "INFO:tensorflow:Assets written to: mymodel\\assets\n"
     ]
    },
    {
     "name": "stderr",
     "output_type": "stream",
     "text": [
      "INFO:tensorflow:Assets written to: mymodel\\assets\n"
     ]
    },
    {
     "name": "stdout",
     "output_type": "stream",
     "text": [
      "70/70 [==============================] - 224s 3s/step - loss: 0.3094 - accuracy: 0.9039 - val_loss: 0.3164 - val_accuracy: 0.8853\n",
      "Epoch 4/10\n",
      "70/70 [==============================] - 221s 3s/step - loss: 0.4042 - accuracy: 0.9039 - val_loss: 0.3905 - val_accuracy: 0.8853\n",
      "Epoch 5/10\n",
      "70/70 [==============================] - ETA: 0s - loss: 0.3279 - accuracy: 0.9039"
     ]
    },
    {
     "name": "stderr",
     "output_type": "stream",
     "text": [
      "WARNING:absl:Found untraced functions such as _jit_compiled_convolution_op, _jit_compiled_convolution_op, _jit_compiled_convolution_op, _jit_compiled_convolution_op, _jit_compiled_convolution_op while saving (showing 5 of 17). These functions will not be directly callable after loading.\n"
     ]
    },
    {
     "name": "stdout",
     "output_type": "stream",
     "text": [
      "INFO:tensorflow:Assets written to: mymodel\\assets\n"
     ]
    },
    {
     "name": "stderr",
     "output_type": "stream",
     "text": [
      "INFO:tensorflow:Assets written to: mymodel\\assets\n"
     ]
    },
    {
     "name": "stdout",
     "output_type": "stream",
     "text": [
      "70/70 [==============================] - 217s 3s/step - loss: 0.3279 - accuracy: 0.9039 - val_loss: 0.3118 - val_accuracy: 0.8853\n",
      "Epoch 6/10\n",
      "70/70 [==============================] - 211s 3s/step - loss: 0.3026 - accuracy: 0.9039 - val_loss: 0.3354 - val_accuracy: 0.8853\n",
      "Epoch 7/10\n",
      "70/70 [==============================] - 223s 3s/step - loss: 0.2947 - accuracy: 0.9039 - val_loss: 0.3222 - val_accuracy: 0.8853\n",
      "Epoch 8/10\n",
      "70/70 [==============================] - 222s 3s/step - loss: 0.2950 - accuracy: 0.9039 - val_loss: 0.3151 - val_accuracy: 0.8853\n",
      "Epoch 9/10\n",
      "70/70 [==============================] - ETA: 0s - loss: 0.2912 - accuracy: 0.9039"
     ]
    },
    {
     "name": "stderr",
     "output_type": "stream",
     "text": [
      "WARNING:absl:Found untraced functions such as _jit_compiled_convolution_op, _jit_compiled_convolution_op, _jit_compiled_convolution_op, _jit_compiled_convolution_op, _jit_compiled_convolution_op while saving (showing 5 of 17). These functions will not be directly callable after loading.\n"
     ]
    },
    {
     "name": "stdout",
     "output_type": "stream",
     "text": [
      "INFO:tensorflow:Assets written to: mymodel\\assets\n"
     ]
    },
    {
     "name": "stderr",
     "output_type": "stream",
     "text": [
      "INFO:tensorflow:Assets written to: mymodel\\assets\n"
     ]
    },
    {
     "name": "stdout",
     "output_type": "stream",
     "text": [
      "70/70 [==============================] - 225s 3s/step - loss: 0.2912 - accuracy: 0.9039 - val_loss: 0.3064 - val_accuracy: 0.8853\n",
      "Epoch 10/10\n",
      "70/70 [==============================] - ETA: 0s - loss: 0.2894 - accuracy: 0.9039"
     ]
    },
    {
     "name": "stderr",
     "output_type": "stream",
     "text": [
      "WARNING:absl:Found untraced functions such as _jit_compiled_convolution_op, _jit_compiled_convolution_op, _jit_compiled_convolution_op, _jit_compiled_convolution_op, _jit_compiled_convolution_op while saving (showing 5 of 17). These functions will not be directly callable after loading.\n"
     ]
    },
    {
     "name": "stdout",
     "output_type": "stream",
     "text": [
      "INFO:tensorflow:Assets written to: mymodel\\assets\n"
     ]
    },
    {
     "name": "stderr",
     "output_type": "stream",
     "text": [
      "INFO:tensorflow:Assets written to: mymodel\\assets\n"
     ]
    },
    {
     "name": "stdout",
     "output_type": "stream",
     "text": [
      "70/70 [==============================] - 228s 3s/step - loss: 0.2894 - accuracy: 0.9039 - val_loss: 0.2963 - val_accuracy: 0.8853\n"
     ]
    }
   ],
   "source": [
    "callbacks = [keras.callbacks.EarlyStopping(monitor='val_loss', patience=30), keras.callbacks.ModelCheckpoint('mymodel', save_best_only=True)]\n",
    "history = model.fit(x_train, y_train, epochs=10, validation_data=(x_valid, y_valid), batch_size=4, callbacks=callbacks)"
   ]
  },
  {
   "cell_type": "code",
   "execution_count": 41,
   "metadata": {},
   "outputs": [
    {
     "data": {
      "text/plain": [
       "[<matplotlib.lines.Line2D at 0x17100300ca0>]"
      ]
     },
     "execution_count": 41,
     "metadata": {},
     "output_type": "execute_result"
    },
    {
     "data": {
      "image/png": "[encoded data removed]",
      "text/plain": [
       "<Figure size 1080x360 with 2 Axes>"
      ]
     },
     "metadata": {
      "needs_background": "light"
     },
     "output_type": "display_data"
    }
   ],
   "source": [
    "import matplotlib.pyplot as plt\n",
    "fig, (ax_loss, ax_accu) = plt.subplots(1, 2, figsize=(15,5))\n",
    "ax_loss.plot(history.epoch, history.history[\"loss\"], label=\"Train loss\")\n",
    "ax_loss.plot(history.epoch, history.history[\"val_loss\"], label=\"Validation loss\")\n",
    "ax_accu.plot(history.epoch, history.history[\"accuracy\"], label=\"Train accuracy\")\n",
    "ax_accu.plot(history.epoch, history.history[\"val_accuracy\"], label=\"Validation accuracy\")"
   ]
  },
  {
   "cell_type": "code",
   "execution_count": null,
   "metadata": {},
   "outputs": [],
   "source": []
  }
 ],
 "metadata": {
  "language_info": {
   "name": "python"
  },
  "orig_nbformat": 4
 },
 "nbformat": 4,
 "nbformat_minor": 2
}
