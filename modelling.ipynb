{
 "cells": [
  {
   "cell_type": "code",
   "execution_count": 1,
   "metadata": {},
   "outputs": [],
   "source": [
    "import pandas as pd\n",
    "from PIL import Image\n",
    "import os\n",
    "import numpy as np\n",
    "import matplotlib.pyplot as plt\n",
    "import seaborn as sns\n",
    "\n",
    "from matplotlib import rcParams\n",
    "\n",
    "from keras.utils import load_img\n",
    "from keras import Model\n",
    "from keras.callbacks import EarlyStopping, ModelCheckpoint, ReduceLROnPlateau\n",
    "from keras.models import load_model\n",
    "from keras.optimizers import Adam\n",
    "from keras.utils.vis_utils import plot_model\n",
    "from keras.preprocessing.image import ImageDataGenerator\n",
    "from keras.layers import Input, Conv2D, Conv2DTranspose, MaxPooling2D, concatenate, Dropout\n",
    "\n",
    "from tqdm import tqdm_notebook\n",
    "\n",
    "# figure size in inches\n",
    "#rcParams['figure.figsize'] = 10,6"
   ]
  },
  {
   "cell_type": "code",
   "execution_count": 2,
   "metadata": {},
   "outputs": [],
   "source": [
    "def rle_decode(rle_mask, shape):\n",
    "\n",
    "    \"\"\"\n",
    "    Decode run-length encoded segmentation mask string into 2d array\n",
    "\n",
    "    Parameters\n",
    "    ----------\n",
    "    rle_mask (str): Run-length encoded segmentation mask string\n",
    "    shape (tuple of shape (2)): Height and width of the mask\n",
    "\n",
    "    Returns\n",
    "    -------\n",
    "    mask (numpy.ndarray of shape (height, width)): Decoded 2d segmentation mask\n",
    "    \"\"\"\n",
    "\n",
    "    rle_mask = rle_mask.split()\n",
    "    starts, lengths = [np.asarray(x, dtype=int) for x in (rle_mask[0:][::2], rle_mask[1:][::2])]\n",
    "    starts -= 1\n",
    "    ends = starts + lengths\n",
    "\n",
    "    mask = np.zeros((shape[0] * shape[1]), dtype=np.uint8)\n",
    "    for start, end in zip(starts, ends):\n",
    "        mask[start:end] = 1\n",
    "\n",
    "    mask = mask.reshape(shape[0], shape[1])\n",
    "    return mask.T\n",
    "\n",
    "def show_mask(id: int)-> None:\n",
    "    im = Image.open(os.path.join(\"train_images\",str(id)+\".tiff\"))\n",
    "    im_mask = df.loc[df[\"id\"]==id]['rle'].iloc[0]\n",
    "    im_decode = rle_decode(im_mask, im.size)\n",
    "    im_decode *= 255\n",
    "    img_decode = Image.fromarray(im_decode,mode=\"L\")"
   ]
  },
  {
   "cell_type": "code",
   "execution_count": 3,
   "metadata": {},
   "outputs": [],
   "source": [
    "def build_model(input_layer, start_neurons):\n",
    "    conv1 = Conv2D(start_neurons * 1, (3, 3), activation=\"relu\", padding=\"same\")(input_layer)\n",
    "    conv1 = Conv2D(start_neurons * 1, (3, 3), activation=\"relu\", padding=\"same\")(conv1)\n",
    "    pool1 = MaxPooling2D((2, 2))(conv1)\n",
    "    pool1 = Dropout(0.25)(pool1)\n",
    "\n",
    "    conv2 = Conv2D(start_neurons * 2, (3, 3), activation=\"relu\", padding=\"same\")(pool1)\n",
    "    conv2 = Conv2D(start_neurons * 2, (3, 3), activation=\"relu\", padding=\"same\")(conv2)\n",
    "    pool2 = MaxPooling2D((2, 2))(conv2)\n",
    "    pool2 = Dropout(0.5)(pool2)\n",
    "\n",
    "    conv3 = Conv2D(start_neurons * 4, (3, 3), activation=\"relu\", padding=\"same\")(pool2)\n",
    "    conv3 = Conv2D(start_neurons * 4, (3, 3), activation=\"relu\", padding=\"same\")(conv3)\n",
    "    pool3 = MaxPooling2D((2, 2))(conv3)\n",
    "    pool3 = Dropout(0.5)(pool3)\n",
    "\n",
    "    conv4 = Conv2D(start_neurons * 8, (3, 3), activation=\"relu\", padding=\"same\")(pool3)\n",
    "    conv4 = Conv2D(start_neurons * 8, (3, 3), activation=\"relu\", padding=\"same\")(conv4)\n",
    "    pool4 = MaxPooling2D((2, 2))(conv4)\n",
    "    pool4 = Dropout(0.5)(pool4)\n",
    "\n",
    "    # Middle\n",
    "    convm = Conv2D(start_neurons * 16, (3, 3), activation=\"relu\", padding=\"same\")(pool4)\n",
    "    convm = Conv2D(start_neurons * 16, (3, 3), activation=\"relu\", padding=\"same\")(convm)\n",
    "    \n",
    "    deconv4 = Conv2DTranspose(start_neurons * 8, (3, 3), strides=(2, 2), padding=\"same\")(convm)\n",
    "    uconv4 = concatenate([deconv4, conv4])\n",
    "    uconv4 = Dropout(0.5)(uconv4)\n",
    "    uconv4 = Conv2D(start_neurons * 8, (3, 3), activation=\"relu\", padding=\"same\")(uconv4)\n",
    "    uconv4 = Conv2D(start_neurons * 8, (3, 3), activation=\"relu\", padding=\"same\")(uconv4)\n",
    "\n",
    "    deconv3 = Conv2DTranspose(start_neurons * 4, (3, 3), strides=(2, 2), padding=\"same\")(uconv4)\n",
    "    uconv3 = concatenate([deconv3, conv3])\n",
    "    uconv3 = Dropout(0.5)(uconv3)\n",
    "    uconv3 = Conv2D(start_neurons * 4, (3, 3), activation=\"relu\", padding=\"same\")(uconv3)\n",
    "    uconv3 = Conv2D(start_neurons * 4, (3, 3), activation=\"relu\", padding=\"same\")(uconv3)\n",
    "\n",
    "    deconv2 = Conv2DTranspose(start_neurons * 2, (3, 3), strides=(2, 2), padding=\"same\")(uconv3)\n",
    "    uconv2 = concatenate([deconv2, conv2])\n",
    "    uconv2 = Dropout(0.5)(uconv2)\n",
    "    uconv2 = Conv2D(start_neurons * 2, (3, 3), activation=\"relu\", padding=\"same\")(uconv2)\n",
    "    uconv2 = Conv2D(start_neurons * 2, (3, 3), activation=\"relu\", padding=\"same\")(uconv2)\n",
    "\n",
    "    deconv1 = Conv2DTranspose(start_neurons * 1, (3, 3), strides=(2, 2), padding=\"same\")(uconv2)\n",
    "    uconv1 = concatenate([deconv1, conv1])\n",
    "    uconv1 = Dropout(0.5)(uconv1)\n",
    "    uconv1 = Conv2D(start_neurons * 1, (3, 3), activation=\"relu\", padding=\"same\")(uconv1)\n",
    "    uconv1 = Conv2D(start_neurons * 1, (3, 3), activation=\"relu\", padding=\"same\")(uconv1)\n",
    "    \n",
    "    output_layer = Conv2D(1, (1,1), padding=\"same\", activation=\"sigmoid\")(uconv1)\n",
    "    \n",
    "    return output_layer\n",
    "\n",
    "#input_layer = Input((img_size_target, img_size_target, 1))\n",
    "#output_layer = build_model(input_layer, 16)\n"
   ]
  },
  {
   "cell_type": "code",
   "execution_count": 25,
   "metadata": {},
   "outputs": [],
   "source": [
    "df = pd.read_csv(\"my_train.csv\",index_col=\"id\")\n",
    "df['organ'] = pd.Categorical(df['organ'], ['prostate', 'spleen', 'lung', 'kidney', 'largeintestine'])\n",
    "\n",
    "#train, dev, test = np.split(df.sample(frac=1, random_state=42), \n",
    "#                       [int(.8*len(df)), int(.9*len(df))])"
   ]
  },
  {
   "cell_type": "markdown",
   "metadata": {},
   "source": [
    "### Image and mask resize to 512x512 pixels"
   ]
  },
  {
   "cell_type": "code",
   "execution_count": 102,
   "metadata": {},
   "outputs": [],
   "source": [
    "def image_resize(s):\n",
    "    newsize = (512,512)\n",
    "    s[\"image\"] = np.array(Image.open(os.path.join(\"train_images\",str(s.name)+\".tiff\")).resize(newsize).convert(\"L\")) /255\n",
    "    s[\"mask\"] = np.array(Image.fromarray(rle_decode(s[\"rle\"],(s[\"img_height\"],s[\"img_width\"])*255)).resize(newsize).convert(\"L\"))\n",
    "    return s"
   ]
  },
  {
   "cell_type": "code",
   "execution_count": 104,
   "metadata": {},
   "outputs": [],
   "source": [
    "df = df.apply(image_resize,axis =1)"
   ]
  },
  {
   "cell_type": "code",
   "execution_count": 120,
   "metadata": {},
   "outputs": [],
   "source": [
    "img_size_target = 512\n",
    "train_df, valid_df, test_df = np.split(df.sample(frac=1, random_state=42), \n",
    "                       [int(.8*len(df)), int(.9*len(df))])\n",
    "\n",
    "x_train =  np.array(train_df[\"image\"].tolist()).reshape(-1, img_size_target, img_size_target, 1)\n",
    "x_valid =  np.array(valid_df[\"image\"].tolist()).reshape(-1, img_size_target, img_size_target, 1)\n",
    "\n",
    "y_train =  np.array(train_df[\"mask\"].tolist()).reshape(-1, img_size_target, img_size_target, 1)\n",
    "y_valid =  np.array(valid_df[\"mask\"].tolist()).reshape(-1, img_size_target, img_size_target, 1)"
   ]
  },
  {
   "cell_type": "code",
   "execution_count": 121,
   "metadata": {},
   "outputs": [
    {
     "name": "stdout",
     "output_type": "stream",
     "text": [
      "Model: \"model_1\"\n",
      "__________________________________________________________________________________________________\n",
      " Layer (type)                   Output Shape         Param #     Connected to                     \n",
      "==================================================================================================\n",
      " input_2 (InputLayer)           [(None, 512, 512, 1  0           []                               \n",
      "                                )]                                                                \n",
      "                                                                                                  \n",
      " conv2d_19 (Conv2D)             (None, 512, 512, 16  160         ['input_2[0][0]']                \n",
      "                                )                                                                 \n",
      "                                                                                                  \n",
      " conv2d_20 (Conv2D)             (None, 512, 512, 16  2320        ['conv2d_19[0][0]']              \n",
      "                                )                                                                 \n",
      "                                                                                                  \n",
      " max_pooling2d_4 (MaxPooling2D)  (None, 256, 256, 16  0          ['conv2d_20[0][0]']              \n",
      "                                )                                                                 \n",
      "                                                                                                  \n",
      " dropout_8 (Dropout)            (None, 256, 256, 16  0           ['max_pooling2d_4[0][0]']        \n",
      "                                )                                                                 \n",
      "                                                                                                  \n",
      " conv2d_21 (Conv2D)             (None, 256, 256, 32  4640        ['dropout_8[0][0]']              \n",
      "                                )                                                                 \n",
      "                                                                                                  \n",
      " conv2d_22 (Conv2D)             (None, 256, 256, 32  9248        ['conv2d_21[0][0]']              \n",
      "                                )                                                                 \n",
      "                                                                                                  \n",
      " max_pooling2d_5 (MaxPooling2D)  (None, 128, 128, 32  0          ['conv2d_22[0][0]']              \n",
      "                                )                                                                 \n",
      "                                                                                                  \n",
      " dropout_9 (Dropout)            (None, 128, 128, 32  0           ['max_pooling2d_5[0][0]']        \n",
      "                                )                                                                 \n",
      "                                                                                                  \n",
      " conv2d_23 (Conv2D)             (None, 128, 128, 64  18496       ['dropout_9[0][0]']              \n",
      "                                )                                                                 \n",
      "                                                                                                  \n",
      " conv2d_24 (Conv2D)             (None, 128, 128, 64  36928       ['conv2d_23[0][0]']              \n",
      "                                )                                                                 \n",
      "                                                                                                  \n",
      " max_pooling2d_6 (MaxPooling2D)  (None, 64, 64, 64)  0           ['conv2d_24[0][0]']              \n",
      "                                                                                                  \n",
      " dropout_10 (Dropout)           (None, 64, 64, 64)   0           ['max_pooling2d_6[0][0]']        \n",
      "                                                                                                  \n",
      " conv2d_25 (Conv2D)             (None, 64, 64, 128)  73856       ['dropout_10[0][0]']             \n",
      "                                                                                                  \n",
      " conv2d_26 (Conv2D)             (None, 64, 64, 128)  147584      ['conv2d_25[0][0]']              \n",
      "                                                                                                  \n",
      " max_pooling2d_7 (MaxPooling2D)  (None, 32, 32, 128)  0          ['conv2d_26[0][0]']              \n",
      "                                                                                                  \n",
      " dropout_11 (Dropout)           (None, 32, 32, 128)  0           ['max_pooling2d_7[0][0]']        \n",
      "                                                                                                  \n",
      " conv2d_27 (Conv2D)             (None, 32, 32, 256)  295168      ['dropout_11[0][0]']             \n",
      "                                                                                                  \n",
      " conv2d_28 (Conv2D)             (None, 32, 32, 256)  590080      ['conv2d_27[0][0]']              \n",
      "                                                                                                  \n",
      " conv2d_transpose_4 (Conv2DTran  (None, 64, 64, 128)  295040     ['conv2d_28[0][0]']              \n",
      " spose)                                                                                           \n",
      "                                                                                                  \n",
      " concatenate_4 (Concatenate)    (None, 64, 64, 256)  0           ['conv2d_transpose_4[0][0]',     \n",
      "                                                                  'conv2d_26[0][0]']              \n",
      "                                                                                                  \n",
      " dropout_12 (Dropout)           (None, 64, 64, 256)  0           ['concatenate_4[0][0]']          \n",
      "                                                                                                  \n",
      " conv2d_29 (Conv2D)             (None, 64, 64, 128)  295040      ['dropout_12[0][0]']             \n",
      "                                                                                                  \n",
      " conv2d_30 (Conv2D)             (None, 64, 64, 128)  147584      ['conv2d_29[0][0]']              \n",
      "                                                                                                  \n",
      " conv2d_transpose_5 (Conv2DTran  (None, 128, 128, 64  73792      ['conv2d_30[0][0]']              \n",
      " spose)                         )                                                                 \n",
      "                                                                                                  \n",
      " concatenate_5 (Concatenate)    (None, 128, 128, 12  0           ['conv2d_transpose_5[0][0]',     \n",
      "                                8)                                'conv2d_24[0][0]']              \n",
      "                                                                                                  \n",
      " dropout_13 (Dropout)           (None, 128, 128, 12  0           ['concatenate_5[0][0]']          \n",
      "                                8)                                                                \n",
      "                                                                                                  \n",
      " conv2d_31 (Conv2D)             (None, 128, 128, 64  73792       ['dropout_13[0][0]']             \n",
      "                                )                                                                 \n",
      "                                                                                                  \n",
      " conv2d_32 (Conv2D)             (None, 128, 128, 64  36928       ['conv2d_31[0][0]']              \n",
      "                                )                                                                 \n",
      "                                                                                                  \n",
      " conv2d_transpose_6 (Conv2DTran  (None, 256, 256, 32  18464      ['conv2d_32[0][0]']              \n",
      " spose)                         )                                                                 \n",
      "                                                                                                  \n",
      " concatenate_6 (Concatenate)    (None, 256, 256, 64  0           ['conv2d_transpose_6[0][0]',     \n",
      "                                )                                 'conv2d_22[0][0]']              \n",
      "                                                                                                  \n",
      " dropout_14 (Dropout)           (None, 256, 256, 64  0           ['concatenate_6[0][0]']          \n",
      "                                )                                                                 \n",
      "                                                                                                  \n",
      " conv2d_33 (Conv2D)             (None, 256, 256, 32  18464       ['dropout_14[0][0]']             \n",
      "                                )                                                                 \n",
      "                                                                                                  \n",
      " conv2d_34 (Conv2D)             (None, 256, 256, 32  9248        ['conv2d_33[0][0]']              \n",
      "                                )                                                                 \n",
      "                                                                                                  \n",
      " conv2d_transpose_7 (Conv2DTran  (None, 512, 512, 16  4624       ['conv2d_34[0][0]']              \n",
      " spose)                         )                                                                 \n",
      "                                                                                                  \n",
      " concatenate_7 (Concatenate)    (None, 512, 512, 32  0           ['conv2d_transpose_7[0][0]',     \n",
      "                                )                                 'conv2d_20[0][0]']              \n",
      "                                                                                                  \n",
      " dropout_15 (Dropout)           (None, 512, 512, 32  0           ['concatenate_7[0][0]']          \n",
      "                                )                                                                 \n",
      "                                                                                                  \n",
      " conv2d_35 (Conv2D)             (None, 512, 512, 16  4624        ['dropout_15[0][0]']             \n",
      "                                )                                                                 \n",
      "                                                                                                  \n",
      " conv2d_36 (Conv2D)             (None, 512, 512, 16  2320        ['conv2d_35[0][0]']              \n",
      "                                )                                                                 \n",
      "                                                                                                  \n",
      " conv2d_37 (Conv2D)             (None, 512, 512, 1)  17          ['conv2d_36[0][0]']              \n",
      "                                                                                                  \n",
      "==================================================================================================\n",
      "Total params: 2,158,417\n",
      "Trainable params: 2,158,417\n",
      "Non-trainable params: 0\n",
      "__________________________________________________________________________________________________\n"
     ]
    }
   ],
   "source": [
    "\n",
    "input_layer = Input((img_size_target, img_size_target, 1))\n",
    "output_layer = build_model(input_layer, 16)\n",
    "model = Model(input_layer, output_layer)\n",
    "model.compile(loss=\"binary_crossentropy\", optimizer=\"adam\", metrics=[\"accuracy\"])\n",
    "model.summary()"
   ]
  },
  {
   "cell_type": "code",
   "execution_count": 123,
   "metadata": {},
   "outputs": [
    {
     "name": "stdout",
     "output_type": "stream",
     "text": [
      "Epoch 1/10\n",
      "9/9 [==============================] - ETA: 0s - loss: 0.7027 - accuracy: 0.9032 \n",
      "Epoch 1: val_loss improved from inf to 0.45205, saving model to .\\keras.model\n"
     ]
    },
    {
     "name": "stderr",
     "output_type": "stream",
     "text": [
      "WARNING:absl:Found untraced functions such as _jit_compiled_convolution_op, _jit_compiled_convolution_op, _jit_compiled_convolution_op, _jit_compiled_convolution_op, _jit_compiled_convolution_op while saving (showing 5 of 23). These functions will not be directly callable after loading.\n"
     ]
    },
    {
     "name": "stdout",
     "output_type": "stream",
     "text": [
      "INFO:tensorflow:Assets written to: .\\keras.model\\assets\n"
     ]
    },
    {
     "name": "stderr",
     "output_type": "stream",
     "text": [
      "INFO:tensorflow:Assets written to: .\\keras.model\\assets\n"
     ]
    },
    {
     "name": "stdout",
     "output_type": "stream",
     "text": [
      "9/9 [==============================] - 382s 42s/step - loss: 0.7027 - accuracy: 0.9032 - val_loss: 0.4521 - val_accuracy: 0.8853 - lr: 0.0010\n",
      "Epoch 2/10\n",
      "9/9 [==============================] - ETA: 0s - loss: 0.3793 - accuracy: 0.9038 \n",
      "Epoch 2: val_loss improved from 0.45205 to 0.33819, saving model to .\\keras.model\n"
     ]
    },
    {
     "name": "stderr",
     "output_type": "stream",
     "text": [
      "WARNING:absl:Found untraced functions such as _jit_compiled_convolution_op, _jit_compiled_convolution_op, _jit_compiled_convolution_op, _jit_compiled_convolution_op, _jit_compiled_convolution_op while saving (showing 5 of 23). These functions will not be directly callable after loading.\n"
     ]
    },
    {
     "name": "stdout",
     "output_type": "stream",
     "text": [
      "INFO:tensorflow:Assets written to: .\\keras.model\\assets\n"
     ]
    },
    {
     "name": "stderr",
     "output_type": "stream",
     "text": [
      "INFO:tensorflow:Assets written to: .\\keras.model\\assets\n"
     ]
    },
    {
     "name": "stdout",
     "output_type": "stream",
     "text": [
      "9/9 [==============================] - 360s 40s/step - loss: 0.3793 - accuracy: 0.9038 - val_loss: 0.3382 - val_accuracy: 0.8853 - lr: 0.0010\n",
      "Epoch 3/10\n",
      "9/9 [==============================] - ETA: 0s - loss: 0.3054 - accuracy: 0.9038 \n",
      "Epoch 3: val_loss did not improve from 0.33819\n",
      "9/9 [==============================] - 356s 39s/step - loss: 0.3054 - accuracy: 0.9038 - val_loss: 0.3618 - val_accuracy: 0.8853 - lr: 0.0010\n",
      "Epoch 4/10\n",
      "9/9 [==============================] - ETA: 0s - loss: 0.3100 - accuracy: 0.9038 \n",
      "Epoch 4: val_loss did not improve from 0.33819\n",
      "9/9 [==============================] - 364s 41s/step - loss: 0.3100 - accuracy: 0.9038 - val_loss: 0.3393 - val_accuracy: 0.8853 - lr: 0.0010\n",
      "Epoch 5/10\n",
      "9/9 [==============================] - ETA: 0s - loss: 0.3021 - accuracy: 0.9038 \n",
      "Epoch 5: val_loss improved from 0.33819 to 0.33336, saving model to .\\keras.model\n"
     ]
    },
    {
     "name": "stderr",
     "output_type": "stream",
     "text": [
      "WARNING:absl:Found untraced functions such as _jit_compiled_convolution_op, _jit_compiled_convolution_op, _jit_compiled_convolution_op, _jit_compiled_convolution_op, _jit_compiled_convolution_op while saving (showing 5 of 23). These functions will not be directly callable after loading.\n"
     ]
    },
    {
     "name": "stdout",
     "output_type": "stream",
     "text": [
      "INFO:tensorflow:Assets written to: .\\keras.model\\assets\n"
     ]
    },
    {
     "name": "stderr",
     "output_type": "stream",
     "text": [
      "INFO:tensorflow:Assets written to: .\\keras.model\\assets\n"
     ]
    },
    {
     "name": "stdout",
     "output_type": "stream",
     "text": [
      "9/9 [==============================] - 380s 42s/step - loss: 0.3021 - accuracy: 0.9038 - val_loss: 0.3334 - val_accuracy: 0.8853 - lr: 0.0010\n",
      "Epoch 6/10\n",
      "9/9 [==============================] - ETA: 0s - loss: 0.3015 - accuracy: 0.9038 \n",
      "Epoch 6: val_loss did not improve from 0.33336\n",
      "9/9 [==============================] - 385s 43s/step - loss: 0.3015 - accuracy: 0.9038 - val_loss: 0.3337 - val_accuracy: 0.8853 - lr: 0.0010\n",
      "Epoch 7/10\n",
      "9/9 [==============================] - ETA: 0s - loss: 0.2996 - accuracy: 0.9038 \n",
      "Epoch 7: val_loss did not improve from 0.33336\n",
      "9/9 [==============================] - 372s 41s/step - loss: 0.2996 - accuracy: 0.9038 - val_loss: 0.3356 - val_accuracy: 0.8853 - lr: 0.0010\n",
      "Epoch 8/10\n",
      "9/9 [==============================] - ETA: 0s - loss: 0.2995 - accuracy: 0.9038 \n",
      "Epoch 8: val_loss did not improve from 0.33336\n",
      "9/9 [==============================] - 374s 42s/step - loss: 0.2995 - accuracy: 0.9038 - val_loss: 0.3343 - val_accuracy: 0.8853 - lr: 0.0010\n",
      "Epoch 9/10\n",
      "9/9 [==============================] - ETA: 0s - loss: 0.2987 - accuracy: 0.9038 \n",
      "Epoch 9: val_loss improved from 0.33336 to 0.33259, saving model to .\\keras.model\n"
     ]
    },
    {
     "name": "stderr",
     "output_type": "stream",
     "text": [
      "WARNING:absl:Found untraced functions such as _jit_compiled_convolution_op, _jit_compiled_convolution_op, _jit_compiled_convolution_op, _jit_compiled_convolution_op, _jit_compiled_convolution_op while saving (showing 5 of 23). These functions will not be directly callable after loading.\n"
     ]
    },
    {
     "name": "stdout",
     "output_type": "stream",
     "text": [
      "INFO:tensorflow:Assets written to: .\\keras.model\\assets\n"
     ]
    },
    {
     "name": "stderr",
     "output_type": "stream",
     "text": [
      "INFO:tensorflow:Assets written to: .\\keras.model\\assets\n"
     ]
    },
    {
     "name": "stdout",
     "output_type": "stream",
     "text": [
      "9/9 [==============================] - 397s 44s/step - loss: 0.2987 - accuracy: 0.9038 - val_loss: 0.3326 - val_accuracy: 0.8853 - lr: 0.0010\n",
      "Epoch 10/10\n",
      "9/9 [==============================] - ETA: 0s - loss: 0.2980 - accuracy: 0.9038 \n",
      "Epoch 10: val_loss improved from 0.33259 to 0.33090, saving model to .\\keras.model\n"
     ]
    },
    {
     "name": "stderr",
     "output_type": "stream",
     "text": [
      "WARNING:absl:Found untraced functions such as _jit_compiled_convolution_op, _jit_compiled_convolution_op, _jit_compiled_convolution_op, _jit_compiled_convolution_op, _jit_compiled_convolution_op while saving (showing 5 of 23). These functions will not be directly callable after loading.\n"
     ]
    },
    {
     "name": "stdout",
     "output_type": "stream",
     "text": [
      "INFO:tensorflow:Assets written to: .\\keras.model\\assets\n"
     ]
    },
    {
     "name": "stderr",
     "output_type": "stream",
     "text": [
      "INFO:tensorflow:Assets written to: .\\keras.model\\assets\n"
     ]
    },
    {
     "name": "stdout",
     "output_type": "stream",
     "text": [
      "9/9 [==============================] - 401s 45s/step - loss: 0.2980 - accuracy: 0.9038 - val_loss: 0.3309 - val_accuracy: 0.8853 - lr: 0.0010\n"
     ]
    }
   ],
   "source": [
    "early_stopping = EarlyStopping(patience=10, verbose=1)\n",
    "model_checkpoint = ModelCheckpoint(\"./keras.model\", save_best_only=True, verbose=1)\n",
    "reduce_lr = ReduceLROnPlateau(factor=0.1, patience=5, min_lr=0.00001, verbose=1)\n",
    "\n",
    "epochs = 10\n",
    "batch_size = 3\n",
    "\n",
    "history = model.fit(x_train, y_train,\n",
    "                    validation_data=[x_valid, y_valid], \n",
    "                    epochs=epochs,\n",
    "                    callbacks=[early_stopping, model_checkpoint, reduce_lr])"
   ]
  },
  {
   "cell_type": "code",
   "execution_count": 127,
   "metadata": {},
   "outputs": [
    {
     "data": {
      "text/plain": [
       "[<matplotlib.lines.Line2D at 0x1bc8d949e40>]"
      ]
     },
     "execution_count": 127,
     "metadata": {},
     "output_type": "execute_result"
    },
    {
     "data": {
      "image/png": "[encoded data removed]",
      "text/plain": [
       "<Figure size 1080x360 with 2 Axes>"
      ]
     },
     "metadata": {
      "needs_background": "light"
     },
     "output_type": "display_data"
    }
   ],
   "source": [
    "fig, (ax_loss, ax_accu) = plt.subplots(1, 2, figsize=(15,5))\n",
    "ax_loss.plot(history.epoch, history.history[\"loss\"], label=\"Train loss\")\n",
    "ax_loss.plot(history.epoch, history.history[\"val_loss\"], label=\"Validation loss\")\n",
    "ax_accu.plot(history.epoch, history.history[\"accuracy\"], label=\"Train accuracy\")\n",
    "ax_accu.plot(history.epoch, history.history[\"val_accuracy\"], label=\"Validation accuracy\")"
   ]
  },
  {
   "cell_type": "code",
   "execution_count": 126,
   "metadata": {},
   "outputs": [
    {
     "data": {
      "text/plain": [
       "dict_keys(['loss', 'accuracy', 'val_loss', 'val_accuracy', 'lr'])"
      ]
     },
     "execution_count": 126,
     "metadata": {},
     "output_type": "execute_result"
    }
   ],
   "source": [
    "history.history.keys()"
   ]
  },
  {
   "cell_type": "code",
   "execution_count": null,
   "metadata": {},
   "outputs": [],
   "source": []
  }
 ],
 "metadata": {
  "kernelspec": {
   "display_name": "Python 3.10.4 ('mgr': venv)",
   "language": "python",
   "name": "python3"
  },
  "language_info": {
   "codemirror_mode": {
    "name": "ipython",
    "version": 3
   },
   "file_extension": ".py",
   "mimetype": "text/x-python",
   "name": "python",
   "nbconvert_exporter": "python",
   "pygments_lexer": "ipython3",
   "version": "3.10.4"
  },
  "orig_nbformat": 4,
  "vscode": {
   "interpreter": {
    "hash": "6174ca02755897a5fec824db1a62aaad0a7cd4f87628fe58cd947580c5157c36"
   }
  }
 },
 "nbformat": 4,
 "nbformat_minor": 2
}
